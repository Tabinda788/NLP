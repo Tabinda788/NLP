{
  "cells": [
    {
      "cell_type": "code",
      "execution_count": null,
      "metadata": {
        "colab": {
          "base_uri": "https://localhost:8080/"
        },
        "id": "BZARxIC2a7Ji",
        "outputId": "6472b604-12b1-4bbf-a31f-d501ad812e93"
      },
      "outputs": [
        {
          "name": "stdout",
          "output_type": "stream",
          "text": [
            "[nltk_data] Downloading package punkt to /root/nltk_data...\n",
            "[nltk_data]   Unzipping tokenizers/punkt.zip.\n",
            "[nltk_data] Downloading package stopwords to /root/nltk_data...\n",
            "[nltk_data]   Unzipping corpora/stopwords.zip.\n"
          ]
        },
        {
          "data": {
            "text/plain": [
              "True"
            ]
          },
          "execution_count": 1,
          "metadata": {},
          "output_type": "execute_result"
        }
      ],
      "source": [
        "import re\n",
        "#import nlppt as nl\n",
        "import nltk\n",
        "from tqdm import tqdm\n",
        "from nltk.corpus import stopwords\n",
        "from time import time\n",
        "from nltk.tokenize import sent_tokenize,word_tokenize\n",
        "import pickle\n",
        "import numpy as np\n",
        "\n",
        "nltk.download('punkt')\n",
        "nltk.download('stopwords')"
      ]
    },
    {
      "cell_type": "code",
      "execution_count": null,
      "metadata": {
        "colab": {
          "base_uri": "https://localhost:8080/"
        },
        "id": "sg6vI35jbNoW",
        "outputId": "3d2eb821-b4ba-45f5-c912-cdd9c0550fc3"
      },
      "outputs": [
        {
          "data": {
            "text/html": [
              "\n",
              "  <div id=\"df-9261d900-86fb-4454-86dd-bd9aee4ceb33\">\n",
              "    <div class=\"colab-df-container\">\n",
              "      <div>\n",
              "<style scoped>\n",
              "    .dataframe tbody tr th:only-of-type {\n",
              "        vertical-align: middle;\n",
              "    }\n",
              "\n",
              "    .dataframe tbody tr th {\n",
              "        vertical-align: top;\n",
              "    }\n",
              "\n",
              "    .dataframe thead th {\n",
              "        text-align: right;\n",
              "    }\n",
              "</style>\n",
              "<table border=\"1\" class=\"dataframe\">\n",
              "  <thead>\n",
              "    <tr style=\"text-align: right;\">\n",
              "      <th></th>\n",
              "      <th>Category</th>\n",
              "      <th>Message</th>\n",
              "    </tr>\n",
              "  </thead>\n",
              "  <tbody>\n",
              "    <tr>\n",
              "      <th>0</th>\n",
              "      <td>ham</td>\n",
              "      <td>Go until jurong point, crazy.. Available only ...</td>\n",
              "    </tr>\n",
              "    <tr>\n",
              "      <th>1</th>\n",
              "      <td>ham</td>\n",
              "      <td>Ok lar... Joking wif u oni...</td>\n",
              "    </tr>\n",
              "    <tr>\n",
              "      <th>2</th>\n",
              "      <td>spam</td>\n",
              "      <td>Free entry in 2 a wkly comp to win FA Cup fina...</td>\n",
              "    </tr>\n",
              "    <tr>\n",
              "      <th>3</th>\n",
              "      <td>ham</td>\n",
              "      <td>U dun say so early hor... U c already then say...</td>\n",
              "    </tr>\n",
              "    <tr>\n",
              "      <th>4</th>\n",
              "      <td>ham</td>\n",
              "      <td>Nah I don't think he goes to usf, he lives aro...</td>\n",
              "    </tr>\n",
              "  </tbody>\n",
              "</table>\n",
              "</div>\n",
              "      <button class=\"colab-df-convert\" onclick=\"convertToInteractive('df-9261d900-86fb-4454-86dd-bd9aee4ceb33')\"\n",
              "              title=\"Convert this dataframe to an interactive table.\"\n",
              "              style=\"display:none;\">\n",
              "        \n",
              "  <svg xmlns=\"http://www.w3.org/2000/svg\" height=\"24px\"viewBox=\"0 0 24 24\"\n",
              "       width=\"24px\">\n",
              "    <path d=\"M0 0h24v24H0V0z\" fill=\"none\"/>\n",
              "    <path d=\"M18.56 5.44l.94 2.06.94-2.06 2.06-.94-2.06-.94-.94-2.06-.94 2.06-2.06.94zm-11 1L8.5 8.5l.94-2.06 2.06-.94-2.06-.94L8.5 2.5l-.94 2.06-2.06.94zm10 10l.94 2.06.94-2.06 2.06-.94-2.06-.94-.94-2.06-.94 2.06-2.06.94z\"/><path d=\"M17.41 7.96l-1.37-1.37c-.4-.4-.92-.59-1.43-.59-.52 0-1.04.2-1.43.59L10.3 9.45l-7.72 7.72c-.78.78-.78 2.05 0 2.83L4 21.41c.39.39.9.59 1.41.59.51 0 1.02-.2 1.41-.59l7.78-7.78 2.81-2.81c.8-.78.8-2.07 0-2.86zM5.41 20L4 18.59l7.72-7.72 1.47 1.35L5.41 20z\"/>\n",
              "  </svg>\n",
              "      </button>\n",
              "      \n",
              "  <style>\n",
              "    .colab-df-container {\n",
              "      display:flex;\n",
              "      flex-wrap:wrap;\n",
              "      gap: 12px;\n",
              "    }\n",
              "\n",
              "    .colab-df-convert {\n",
              "      background-color: #E8F0FE;\n",
              "      border: none;\n",
              "      border-radius: 50%;\n",
              "      cursor: pointer;\n",
              "      display: none;\n",
              "      fill: #1967D2;\n",
              "      height: 32px;\n",
              "      padding: 0 0 0 0;\n",
              "      width: 32px;\n",
              "    }\n",
              "\n",
              "    .colab-df-convert:hover {\n",
              "      background-color: #E2EBFA;\n",
              "      box-shadow: 0px 1px 2px rgba(60, 64, 67, 0.3), 0px 1px 3px 1px rgba(60, 64, 67, 0.15);\n",
              "      fill: #174EA6;\n",
              "    }\n",
              "\n",
              "    [theme=dark] .colab-df-convert {\n",
              "      background-color: #3B4455;\n",
              "      fill: #D2E3FC;\n",
              "    }\n",
              "\n",
              "    [theme=dark] .colab-df-convert:hover {\n",
              "      background-color: #434B5C;\n",
              "      box-shadow: 0px 1px 3px 1px rgba(0, 0, 0, 0.15);\n",
              "      filter: drop-shadow(0px 1px 2px rgba(0, 0, 0, 0.3));\n",
              "      fill: #FFFFFF;\n",
              "    }\n",
              "  </style>\n",
              "\n",
              "      <script>\n",
              "        const buttonEl =\n",
              "          document.querySelector('#df-9261d900-86fb-4454-86dd-bd9aee4ceb33 button.colab-df-convert');\n",
              "        buttonEl.style.display =\n",
              "          google.colab.kernel.accessAllowed ? 'block' : 'none';\n",
              "\n",
              "        async function convertToInteractive(key) {\n",
              "          const element = document.querySelector('#df-9261d900-86fb-4454-86dd-bd9aee4ceb33');\n",
              "          const dataTable =\n",
              "            await google.colab.kernel.invokeFunction('convertToInteractive',\n",
              "                                                     [key], {});\n",
              "          if (!dataTable) return;\n",
              "\n",
              "          const docLinkHtml = 'Like what you see? Visit the ' +\n",
              "            '<a target=\"_blank\" href=https://colab.research.google.com/notebooks/data_table.ipynb>data table notebook</a>'\n",
              "            + ' to learn more about interactive tables.';\n",
              "          element.innerHTML = '';\n",
              "          dataTable['output_type'] = 'display_data';\n",
              "          await google.colab.output.renderOutput(dataTable, element);\n",
              "          const docLink = document.createElement('div');\n",
              "          docLink.innerHTML = docLinkHtml;\n",
              "          element.appendChild(docLink);\n",
              "        }\n",
              "      </script>\n",
              "    </div>\n",
              "  </div>\n",
              "  "
            ],
            "text/plain": [
              "  Category                                            Message\n",
              "0      ham  Go until jurong point, crazy.. Available only ...\n",
              "1      ham                      Ok lar... Joking wif u oni...\n",
              "2     spam  Free entry in 2 a wkly comp to win FA Cup fina...\n",
              "3      ham  U dun say so early hor... U c already then say...\n",
              "4      ham  Nah I don't think he goes to usf, he lives aro..."
            ]
          },
          "execution_count": 2,
          "metadata": {},
          "output_type": "execute_result"
        }
      ],
      "source": [
        "import pandas as pd\n",
        "\n",
        "df = pd.read_csv(\"https://raw.githubusercontent.com/codebasics/deep-learning-keras-tf-tutorial/master/47_BERT_text_classification/spam.csv\")\n",
        "df.head(5)"
      ]
    },
    {
      "cell_type": "code",
      "execution_count": null,
      "metadata": {
        "colab": {
          "background_save": true
        },
        "id": "tF2aeM-HfMJJ"
      },
      "outputs": [],
      "source": [
        "def preprocessing(data):\n",
        "    \n",
        "    data = data.fillna(\"\")\n",
        "    data.isnull().any()\n",
        "\n",
        "    #start = time()\n",
        "    punctuation = [\"/\",\",\",\".\",\";\",\":\",\"(\",\")\",\"-\",\"[\",\"]\",\"#\",\"£\",\"?\",\"&\",\"ü\",\"!\"]\n",
        "    data[\"text\"] = data.Message\n",
        "    data[\"text\"] = [word_tokenize(s.lower()) for s in data[\"text\"]]\n",
        "    data[\"text\"] = [[w for w in s if w not in stopwords.words(\"english\")] for s in data[\"text\"]]\n",
        "    data[\"text\"] = [[w for w in s if w not in punctuation] for s in data[\"text\"]]\n",
        "    data[\"text\"] = [[w for w in s if not(re.match(r\"\\d\",w))] for s in data[\"text\"]]\n",
        "    data[\"text\"] = [[w[:-1] if w[-1] in punctuation else w for w in s] for s in data[\"text\"]]\n",
        "    #print(\"Time: %.4f\"%(time() - start) )\n",
        "    \n",
        "    out = \"/content\"\n",
        "    # Saving preprocessed cvs\n",
        "    f = open(out+\"/phrases.series\",'wb')\n",
        "    cvs_phrases = data[\"text\"]\n",
        "    pickle.dump(cvs_phrases,f)\n",
        "    #print(\"CVs saved!\")\n",
        "    \n",
        "    return data"
      ]
    },
    {
      "cell_type": "code",
      "execution_count": null,
      "metadata": {
        "colab": {
          "background_save": true
        },
        "id": "9o1HWAfLfRZ-"
      },
      "outputs": [],
      "source": [
        "df_processed = preprocessing(df)"
      ]
    },
    {
      "cell_type": "code",
      "execution_count": null,
      "metadata": {
        "colab": {
          "base_uri": "https://localhost:8080/"
        },
        "id": "xKjrG5dLhlV2",
        "outputId": "08e65461-5c3c-443f-ba2f-ba4680991972"
      },
      "outputs": [
        {
          "data": {
            "text/plain": [
              "Index(['Category', 'text'], dtype='object')"
            ]
          },
          "execution_count": 5,
          "metadata": {},
          "output_type": "execute_result"
        }
      ],
      "source": [
        "df_processed= df_processed.drop('Message',axis=1)\n",
        "df_processed.columns"
      ]
    },
    {
      "cell_type": "code",
      "execution_count": null,
      "metadata": {
        "colab": {
          "base_uri": "https://localhost:8080/"
        },
        "id": "O0bSMUgFfp8H",
        "outputId": "60d8f34a-10d3-4566-ae8e-4a1965456c64"
      },
      "outputs": [
        {
          "data": {
            "text/plain": [
              "ham     4825\n",
              "spam     747\n",
              "Name: Category, dtype: int64"
            ]
          },
          "execution_count": 6,
          "metadata": {},
          "output_type": "execute_result"
        }
      ],
      "source": [
        "df_processed['Category'].value_counts()"
      ]
    },
    {
      "cell_type": "code",
      "execution_count": null,
      "metadata": {
        "colab": {
          "base_uri": "https://localhost:8080/"
        },
        "id": "IIwI2DjHiukY",
        "outputId": "c7a44e7b-aeea-4a21-ff38-79864771b9d6"
      },
      "outputs": [
        {
          "data": {
            "text/plain": [
              "(747, 2)"
            ]
          },
          "execution_count": 7,
          "metadata": {},
          "output_type": "execute_result"
        }
      ],
      "source": [
        "df_spam = df_processed[df_processed['Category']=='spam']\n",
        "df_spam.shape"
      ]
    },
    {
      "cell_type": "code",
      "execution_count": null,
      "metadata": {
        "colab": {
          "base_uri": "https://localhost:8080/"
        },
        "id": "C3YoHK2PiwiH",
        "outputId": "ce44276f-f3c0-418d-db80-122488ea72a6"
      },
      "outputs": [
        {
          "data": {
            "text/plain": [
              "(4825, 2)"
            ]
          },
          "execution_count": 8,
          "metadata": {},
          "output_type": "execute_result"
        }
      ],
      "source": [
        "df_ham = df_processed[df_processed['Category']=='ham']\n",
        "df_ham.shape"
      ]
    },
    {
      "cell_type": "code",
      "execution_count": null,
      "metadata": {
        "colab": {
          "base_uri": "https://localhost:8080/"
        },
        "id": "kd4ku6idiwfp",
        "outputId": "d9c83c98-fa57-4d30-bda7-c452a3d17f57"
      },
      "outputs": [
        {
          "data": {
            "text/plain": [
              "(747, 2)"
            ]
          },
          "execution_count": 9,
          "metadata": {},
          "output_type": "execute_result"
        }
      ],
      "source": [
        "df_ham_upsampled = df_ham.sample(df_ham.shape[0])\n",
        "df_ham_upsampled.shape"
      ]
    },
    {
      "cell_type": "code",
      "execution_count": null,
      "metadata": {
        "colab": {
          "base_uri": "https://localhost:8080/"
        },
        "id": "2JmZXyZriwdS",
        "outputId": "57daea38-80da-4f6a-f828-ceb080200be2"
      },
      "outputs": [
        {
          "data": {
            "text/plain": [
              "(1494, 2)"
            ]
          },
          "execution_count": 10,
          "metadata": {},
          "output_type": "execute_result"
        }
      ],
      "source": [
        "df_balanced = pd.concat([df_ham_upsampled, df_spam])\n",
        "df_balanced.shape"
      ]
    },
    {
      "cell_type": "code",
      "execution_count": null,
      "metadata": {
        "id": "lzH3AhRSjfjt"
      },
      "outputs": [],
      "source": [
        "df_balanced['Category']=df_balanced['Category'].apply(lambda x: 1 if x=='spam' else 0)"
      ]
    },
    {
      "cell_type": "code",
      "execution_count": null,
      "metadata": {
        "id": "O8YWi0mCsNzP"
      },
      "outputs": [],
      "source": [
        "from sklearn.model_selection import train_test_split\n",
        "# Train Test Split Function\n",
        "def split_train_test(df_balanced, test_size=0.3, shuffle_state=True):\n",
        "    X_train, X_test, Y_train, Y_test = train_test_split(df_balanced[['text']], \n",
        "                                                        df_balanced['Category'], \n",
        "                                                        shuffle=shuffle_state,\n",
        "                                                        test_size=test_size, \n",
        "                                                        random_state=15)\n",
        "    return X_train, X_test, Y_train, Y_test"
      ]
    },
    {
      "cell_type": "code",
      "execution_count": null,
      "metadata": {
        "id": "csnZkT7psWS8"
      },
      "outputs": [],
      "source": [
        "X_train, X_test, Y_train, Y_test= split_train_test(df_balanced)"
      ]
    },
    {
      "cell_type": "code",
      "execution_count": null,
      "metadata": {
        "id": "CQBN75rowv3m"
      },
      "outputs": [],
      "source": [
        "def dependent_data_format(data):\n",
        "  samples = []\n",
        "  for row in data:\n",
        "    samples.append(row)\n",
        "  y_train  = np.array(samples)\n",
        "  return y_train"
      ]
    },
    {
      "cell_type": "code",
      "execution_count": null,
      "metadata": {
        "id": "EkDZb8VYyA2b"
      },
      "outputs": [],
      "source": [
        "y_train = dependent_data_format(Y_train)"
      ]
    },
    {
      "cell_type": "code",
      "execution_count": null,
      "metadata": {
        "id": "rnn-6ernx0uE"
      },
      "outputs": [],
      "source": [
        "y_test = dependent_data_format(Y_test)"
      ]
    },
    {
      "cell_type": "code",
      "execution_count": null,
      "metadata": {
        "id": "Kz5gwmv3uIYH"
      },
      "outputs": [],
      "source": [
        "def independent_data_format(data):\n",
        "  lists=[]\n",
        "  for text in data['text']:\n",
        "    string = \"\"  \n",
        "    for word in text:\n",
        "      string+=  word + \" \" \n",
        "    string = string.rstrip()\n",
        "    lists.append(string)\n",
        "  return lists"
      ]
    },
    {
      "cell_type": "code",
      "execution_count": null,
      "metadata": {
        "id": "inSZ9QRJuISz"
      },
      "outputs": [],
      "source": [
        "x_train = independent_data_format(X_train)"
      ]
    },
    {
      "cell_type": "code",
      "execution_count": null,
      "metadata": {
        "id": "LQDd3oYCuIQf"
      },
      "outputs": [],
      "source": [
        "x_test =  independent_data_format(X_test)"
      ]
    },
    {
      "cell_type": "code",
      "execution_count": null,
      "metadata": {
        "id": "5Xg1Kp008R2E"
      },
      "outputs": [],
      "source": [
        "from sklearn.svm import LinearSVC\n",
        "from sklearn.pipeline import Pipeline\n",
        "from sklearn import metrics\n",
        "from sklearn.feature_extraction.text import CountVectorizer\n",
        "from sklearn.feature_extraction.text import TfidfTransformer"
      ]
    },
    {
      "cell_type": "code",
      "execution_count": null,
      "metadata": {
        "colab": {
          "base_uri": "https://localhost:8080/"
        },
        "id": "J2z7shIP72wS",
        "outputId": "7cb5bf49-d8e4-4425-f02e-6e126c09f9fc"
      },
      "outputs": [
        {
          "name": "stdout",
          "output_type": "stream",
          "text": [
            "              precision    recall  f1-score   support\n",
            "\n",
            "           0       0.92      0.98      0.95       218\n",
            "           1       0.98      0.92      0.95       231\n",
            "\n",
            "    accuracy                           0.95       449\n",
            "   macro avg       0.95      0.95      0.95       449\n",
            "weighted avg       0.95      0.95      0.95       449\n",
            "\n"
          ]
        }
      ],
      "source": [
        "text_clf = Pipeline([('vect', CountVectorizer()),\n",
        "                     ('tfidf', TfidfTransformer()),\n",
        "                     ('clf', LinearSVC()),\n",
        "                     ])\n",
        "\n",
        "text_clf.fit(x_train, y_train)\n",
        "\n",
        "\n",
        "predicted = text_clf.predict(x_test)\n",
        "\n",
        "print(metrics.classification_report(y_test, predicted))"
      ]
    },
    {
      "cell_type": "code",
      "execution_count": null,
      "metadata": {
        "id": "bFGyyg5AAiCc"
      },
      "outputs": [],
      "source": [
        "inf = text_clf.predict([\"order this type of phone and you will win a hamper\"])[0]"
      ]
    },
    {
      "cell_type": "code",
      "execution_count": null,
      "metadata": {
        "colab": {
          "base_uri": "https://localhost:8080/"
        },
        "id": "YLcsepmSArKS",
        "outputId": "541a06ed-80b5-4ed1-e4d2-5b773196fe02"
      },
      "outputs": [
        {
          "data": {
            "text/plain": [
              "0"
            ]
          },
          "execution_count": 23,
          "metadata": {},
          "output_type": "execute_result"
        }
      ],
      "source": [
        "inf"
      ]
    },
    {
      "cell_type": "code",
      "execution_count": null,
      "metadata": {
        "id": "pW4jZjdApV6s"
      },
      "outputs": [],
      "source": [
        "inf = text_clf.predict([\"this is a formal invitation for the tech festival that is going to take place in banglore\"])[0]"
      ]
    },
    {
      "cell_type": "code",
      "execution_count": null,
      "metadata": {
        "colab": {
          "base_uri": "https://localhost:8080/"
        },
        "id": "0STZAq3cpV4M",
        "outputId": "76b8fe20-bcf4-497a-c025-b3592f574b59"
      },
      "outputs": [
        {
          "data": {
            "text/plain": [
              "0"
            ]
          },
          "execution_count": 25,
          "metadata": {},
          "output_type": "execute_result"
        }
      ],
      "source": [
        "inf"
      ]
    },
    {
      "cell_type": "code",
      "execution_count": null,
      "metadata": {
        "colab": {
          "base_uri": "https://localhost:8080/"
        },
        "id": "-kq72N4ApVwp",
        "outputId": "bb2675c5-9b29-4d96-c6b1-0e1e56c561f2"
      },
      "outputs": [
        {
          "name": "stdout",
          "output_type": "stream",
          "text": [
            "              precision    recall  f1-score   support\n",
            "\n",
            "           0       0.92      0.98      0.95       218\n",
            "           1       0.98      0.92      0.95       231\n",
            "\n",
            "    accuracy                           0.95       449\n",
            "   macro avg       0.95      0.95      0.95       449\n",
            "weighted avg       0.95      0.95      0.95       449\n",
            "\n"
          ]
        }
      ],
      "source": [
        "from sklearn.svm import LinearSVC\n",
        "text_clf = Pipeline([('vect', CountVectorizer()),\n",
        "                     ('tfidf', TfidfTransformer()),\n",
        "                     ('clf', LinearSVC()),\n",
        "                     ])\n",
        "\n",
        "text_clf.fit(x_train, y_train)\n",
        "\n",
        "\n",
        "predicted = text_clf.predict(x_test)\n",
        "\n",
        "print(metrics.classification_report(y_test, predicted))"
      ]
    },
    {
      "cell_type": "code",
      "execution_count": null,
      "metadata": {
        "colab": {
          "base_uri": "https://localhost:8080/"
        },
        "id": "B45F8XZYj50g",
        "outputId": "ab024834-0bd0-4a30-e4e5-1074a6866632"
      },
      "outputs": [
        {
          "name": "stdout",
          "output_type": "stream",
          "text": [
            "TfidfVectorizer(max_features=75000)\n",
            "tf-idf with 3113 features\n",
            "Model: \"sequential_5\"\n",
            "_________________________________________________________________\n",
            " Layer (type)                Output Shape              Param #   \n",
            "=================================================================\n",
            " dense_30 (Dense)            (None, 512)               1594368   \n",
            "                                                                 \n",
            " dropout_25 (Dropout)        (None, 512)               0         \n",
            "                                                                 \n",
            " dense_31 (Dense)            (None, 512)               262656    \n",
            "                                                                 \n",
            " dropout_26 (Dropout)        (None, 512)               0         \n",
            "                                                                 \n",
            " dense_32 (Dense)            (None, 512)               262656    \n",
            "                                                                 \n",
            " dropout_27 (Dropout)        (None, 512)               0         \n",
            "                                                                 \n",
            " dense_33 (Dense)            (None, 512)               262656    \n",
            "                                                                 \n",
            " dropout_28 (Dropout)        (None, 512)               0         \n",
            "                                                                 \n",
            " dense_34 (Dense)            (None, 512)               262656    \n",
            "                                                                 \n",
            " dropout_29 (Dropout)        (None, 512)               0         \n",
            "                                                                 \n",
            " dense_35 (Dense)            (None, 20)                10260     \n",
            "                                                                 \n",
            "=================================================================\n",
            "Total params: 2,655,252\n",
            "Trainable params: 2,655,252\n",
            "Non-trainable params: 0\n",
            "_________________________________________________________________\n",
            "Epoch 1/10\n",
            "9/9 - 1s - loss: 2.2211 - accuracy: 0.4230 - val_loss: 0.7071 - val_accuracy: 0.4855 - 1s/epoch - 151ms/step\n",
            "Epoch 2/10\n",
            "9/9 - 1s - loss: 1.0376 - accuracy: 0.4919 - val_loss: 0.7884 - val_accuracy: 0.5145 - 509ms/epoch - 57ms/step\n",
            "Epoch 3/10\n",
            "9/9 - 0s - loss: 0.7867 - accuracy: 0.5167 - val_loss: 0.7018 - val_accuracy: 0.4855 - 489ms/epoch - 54ms/step\n",
            "Epoch 4/10\n",
            "9/9 - 0s - loss: 0.7072 - accuracy: 0.5617 - val_loss: 0.6781 - val_accuracy: 0.8842 - 495ms/epoch - 55ms/step\n",
            "Epoch 5/10\n",
            "9/9 - 0s - loss: 0.6150 - accuracy: 0.6756 - val_loss: 0.3644 - val_accuracy: 0.9287 - 490ms/epoch - 54ms/step\n",
            "Epoch 6/10\n",
            "9/9 - 1s - loss: 0.2347 - accuracy: 0.9349 - val_loss: 0.1486 - val_accuracy: 0.9488 - 505ms/epoch - 56ms/step\n",
            "Epoch 7/10\n",
            "9/9 - 0s - loss: 0.0510 - accuracy: 0.9895 - val_loss: 0.2166 - val_accuracy: 0.9577 - 491ms/epoch - 55ms/step\n",
            "Epoch 8/10\n",
            "9/9 - 0s - loss: 0.0113 - accuracy: 0.9962 - val_loss: 0.2416 - val_accuracy: 0.9599 - 499ms/epoch - 55ms/step\n",
            "Epoch 9/10\n",
            "9/9 - 0s - loss: 0.0050 - accuracy: 0.9990 - val_loss: 0.2446 - val_accuracy: 0.9644 - 482ms/epoch - 54ms/step\n",
            "Epoch 10/10\n",
            "9/9 - 0s - loss: 0.0044 - accuracy: 0.9990 - val_loss: 0.2568 - val_accuracy: 0.9644 - 478ms/epoch - 53ms/step\n",
            "              precision    recall  f1-score   support\n",
            "\n",
            "           0       0.96      0.97      0.96       218\n",
            "           1       0.97      0.96      0.97       231\n",
            "\n",
            "    accuracy                           0.96       449\n",
            "   macro avg       0.96      0.96      0.96       449\n",
            "weighted avg       0.96      0.96      0.96       449\n",
            "\n"
          ]
        }
      ],
      "source": [
        "from keras.layers import  Dropout, Dense\n",
        "from keras.models import Sequential\n",
        "from sklearn.feature_extraction.text import TfidfVectorizer\n",
        "import numpy as np\n",
        "from sklearn import metrics\n",
        "\n",
        "\n",
        "def TFIDF(X_train, X_test,MAX_NB_WORDS=75000):\n",
        "  #print(X_test)\n",
        "  vectorizer_x = TfidfVectorizer(max_features=MAX_NB_WORDS, use_idf=True)\n",
        "  pickle.dump(vectorizer_x, open(\"new_vectorizer.pickle\", \"wb\"))\n",
        "  #pickle.dump(vectorizer_x.vocabulary_,open(\"feature.pkl\",\"wb\"))\n",
        "  X_train = vectorizer_x.fit_transform(X_train).toarray()\n",
        "  X_test = vectorizer_x.transform(X_test).toarray()\n",
        "  print(vectorizer_x)\n",
        "  print(\"tf-idf with\",str(np.array(X_train).shape[1]),\"features\")\n",
        "  return (X_train,X_test)\n",
        "\n",
        "\n",
        "def Build_Model_DNN_Text(shape, nClasses, dropout=0.5):\n",
        "    \"\"\"\n",
        "    buildModel_DNN_Tex(shape, nClasses,dropout)\n",
        "    Build Deep neural networks Model for text classification\n",
        "    Shape is input feature space\n",
        "    nClasses is number of classes\n",
        "    \"\"\"\n",
        "    model = Sequential()\n",
        "    node = 512 # number of nodes\n",
        "    nLayers = 4 # number of  hidden layer\n",
        "\n",
        "    model.add(Dense(node,input_dim=shape,activation='relu'))\n",
        "    model.add(Dropout(dropout))\n",
        "    for i in range(0,nLayers):\n",
        "        model.add(Dense(node,input_dim=node,activation='relu'))\n",
        "        model.add(Dropout(dropout))\n",
        "    model.add(Dense(nClasses, activation='softmax'))\n",
        "\n",
        "    model.compile(loss='sparse_categorical_crossentropy',\n",
        "                  optimizer='adam',\n",
        "                  metrics=['accuracy'])\n",
        "\n",
        "    return model\n",
        "\n",
        "\n",
        "\n",
        "X_train_tfidf,X_test_tfidf = TFIDF(x_train,x_test)\n",
        "\n",
        "\n",
        "model_DNN = Build_Model_DNN_Text(X_train_tfidf.shape[1], 20)\n",
        "model_DNN.summary()\n",
        "exit(1)\n",
        "model_DNN.fit(X_train_tfidf, y_train,\n",
        "                              validation_data=(X_test_tfidf, y_test),\n",
        "                              epochs=10,\n",
        "                              batch_size=128,\n",
        "                              verbose=2)\n",
        "\n",
        "predicted = model_DNN.predict(X_test_tfidf)\n",
        "predicted\n",
        "\n",
        "y_predicted_labels = [np.argmax(i) for i in predicted]\n",
        "print(metrics.classification_report(y_test, y_predicted_labels))"
      ]
    },
    {
      "cell_type": "code",
      "execution_count": null,
      "metadata": {
        "colab": {
          "base_uri": "https://localhost:8080/",
          "height": 328
        },
        "id": "nC9qlvAP5TwW",
        "outputId": "5070999f-5e61-4edd-9af4-c0391b7a5624"
      },
      "outputs": [
        {
          "ename": "NotFittedError",
          "evalue": "ignored",
          "output_type": "error",
          "traceback": [
            "\u001b[0;31m---------------------------------------------------------------------------\u001b[0m",
            "\u001b[0;31mNotFittedError\u001b[0m                            Traceback (most recent call last)",
            "\u001b[0;32m<ipython-input-46-d11b239cdbaf>\u001b[0m in \u001b[0;36m<module>\u001b[0;34m()\u001b[0m\n\u001b[1;32m      1\u001b[0m \u001b[0mvectorizer\u001b[0m \u001b[0;34m=\u001b[0m \u001b[0mpickle\u001b[0m\u001b[0;34m.\u001b[0m\u001b[0mload\u001b[0m\u001b[0;34m(\u001b[0m\u001b[0mopen\u001b[0m\u001b[0;34m(\u001b[0m\u001b[0;34m\"new_vectorizer.pickle\"\u001b[0m\u001b[0;34m,\u001b[0m \u001b[0;34m\"rb\"\u001b[0m\u001b[0;34m)\u001b[0m\u001b[0;34m)\u001b[0m\u001b[0;34m\u001b[0m\u001b[0;34m\u001b[0m\u001b[0m\n\u001b[0;32m----> 2\u001b[0;31m \u001b[0mX_test\u001b[0m \u001b[0;34m=\u001b[0m \u001b[0mvectorizer\u001b[0m\u001b[0;34m.\u001b[0m\u001b[0mtransform\u001b[0m\u001b[0;34m(\u001b[0m\u001b[0mx_test\u001b[0m\u001b[0;34m)\u001b[0m\u001b[0;34m.\u001b[0m\u001b[0mtoarray\u001b[0m\u001b[0;34m(\u001b[0m\u001b[0;34m)\u001b[0m\u001b[0;34m\u001b[0m\u001b[0;34m\u001b[0m\u001b[0m\n\u001b[0m",
            "\u001b[0;32m/usr/local/lib/python3.7/dist-packages/sklearn/feature_extraction/text.py\u001b[0m in \u001b[0;36mtransform\u001b[0;34m(self, raw_documents)\u001b[0m\n\u001b[1;32m   2097\u001b[0m             \u001b[0mTf\u001b[0m\u001b[0;34m-\u001b[0m\u001b[0midf\u001b[0m\u001b[0;34m-\u001b[0m\u001b[0mweighted\u001b[0m \u001b[0mdocument\u001b[0m\u001b[0;34m-\u001b[0m\u001b[0mterm\u001b[0m \u001b[0mmatrix\u001b[0m\u001b[0;34m.\u001b[0m\u001b[0;34m\u001b[0m\u001b[0;34m\u001b[0m\u001b[0m\n\u001b[1;32m   2098\u001b[0m         \"\"\"\n\u001b[0;32m-> 2099\u001b[0;31m         \u001b[0mcheck_is_fitted\u001b[0m\u001b[0;34m(\u001b[0m\u001b[0mself\u001b[0m\u001b[0;34m,\u001b[0m \u001b[0mmsg\u001b[0m\u001b[0;34m=\u001b[0m\u001b[0;34m\"The TF-IDF vectorizer is not fitted\"\u001b[0m\u001b[0;34m)\u001b[0m\u001b[0;34m\u001b[0m\u001b[0;34m\u001b[0m\u001b[0m\n\u001b[0m\u001b[1;32m   2100\u001b[0m \u001b[0;34m\u001b[0m\u001b[0m\n\u001b[1;32m   2101\u001b[0m         \u001b[0mX\u001b[0m \u001b[0;34m=\u001b[0m \u001b[0msuper\u001b[0m\u001b[0;34m(\u001b[0m\u001b[0;34m)\u001b[0m\u001b[0;34m.\u001b[0m\u001b[0mtransform\u001b[0m\u001b[0;34m(\u001b[0m\u001b[0mraw_documents\u001b[0m\u001b[0;34m)\u001b[0m\u001b[0;34m\u001b[0m\u001b[0;34m\u001b[0m\u001b[0m\n",
            "\u001b[0;32m/usr/local/lib/python3.7/dist-packages/sklearn/utils/validation.py\u001b[0m in \u001b[0;36mcheck_is_fitted\u001b[0;34m(estimator, attributes, msg, all_or_any)\u001b[0m\n\u001b[1;32m   1220\u001b[0m \u001b[0;34m\u001b[0m\u001b[0m\n\u001b[1;32m   1221\u001b[0m     \u001b[0;32mif\u001b[0m \u001b[0;32mnot\u001b[0m \u001b[0mfitted\u001b[0m\u001b[0;34m:\u001b[0m\u001b[0;34m\u001b[0m\u001b[0;34m\u001b[0m\u001b[0m\n\u001b[0;32m-> 1222\u001b[0;31m         \u001b[0;32mraise\u001b[0m \u001b[0mNotFittedError\u001b[0m\u001b[0;34m(\u001b[0m\u001b[0mmsg\u001b[0m \u001b[0;34m%\u001b[0m \u001b[0;34m{\u001b[0m\u001b[0;34m\"name\"\u001b[0m\u001b[0;34m:\u001b[0m \u001b[0mtype\u001b[0m\u001b[0;34m(\u001b[0m\u001b[0mestimator\u001b[0m\u001b[0;34m)\u001b[0m\u001b[0;34m.\u001b[0m\u001b[0m__name__\u001b[0m\u001b[0;34m}\u001b[0m\u001b[0;34m)\u001b[0m\u001b[0;34m\u001b[0m\u001b[0;34m\u001b[0m\u001b[0m\n\u001b[0m\u001b[1;32m   1223\u001b[0m \u001b[0;34m\u001b[0m\u001b[0m\n\u001b[1;32m   1224\u001b[0m \u001b[0;34m\u001b[0m\u001b[0m\n",
            "\u001b[0;31mNotFittedError\u001b[0m: The TF-IDF vectorizer is not fitted"
          ]
        }
      ],
      "source": [
        "vectorizer = pickle.load(open(\"new_vectorizer.pickle\", \"rb\"))\n",
        "X_test = vectorizer.transform(x_test).toarray() # getting error here"
      ]
    },
    {
      "cell_type": "code",
      "execution_count": null,
      "metadata": {
        "colab": {
          "base_uri": "https://localhost:8080/"
        },
        "id": "GpekshbdcD5Q",
        "outputId": "fb178359-680b-4f06-e319-1ad834a4d81b"
      },
      "outputs": [
        {
          "data": {
            "text/plain": [
              "array([1.69314718, 1.28768207, 1.28768207, 1.69314718, 1.69314718,\n",
              "       1.69314718, 1.        ])"
            ]
          },
          "execution_count": 42,
          "metadata": {},
          "output_type": "execute_result"
        }
      ],
      "source": [
        "from sklearn.feature_extraction.text import TfidfVectorizer\n",
        "\n",
        "my_data = [\"hello how are you\", \"hello who are you\", \"i am not you\"]\n",
        "\n",
        "tf = TfidfVectorizer(use_idf=True)\n",
        "tf.fit_transform(my_data)\n",
        "\n",
        "idf = tf.idf_ \n",
        "idf\n"
      ]
    },
    {
      "cell_type": "code",
      "execution_count": null,
      "metadata": {
        "colab": {
          "base_uri": "https://localhost:8080/"
        },
        "id": "bGhWKvpg0PWB",
        "outputId": "ab01b324-4bc5-42e4-ffd6-5adbf5d136ad"
      },
      "outputs": [
        {
          "data": {
            "text/plain": [
              "1.2876820724517808"
            ]
          },
          "execution_count": 40,
          "metadata": {},
          "output_type": "execute_result"
        }
      ],
      "source": [
        "# If you want to get the idf value for a particular word, here \"hello\"    \n",
        "tf.idf_[tf.vocabulary_[\"hello\"]]"
      ]
    },
    {
      "cell_type": "code",
      "execution_count": null,
      "metadata": {
        "id": "VYzYEYhl3wHQ"
      },
      "outputs": [],
      "source": [
        ""
      ]
    }
  ],
  "metadata": {
    "colab": {
      "collapsed_sections": [],
      "name": "Tfidf_text_classification.ipynb",
      "provenance": []
    },
    "kernelspec": {
      "display_name": "Python 3",
      "name": "python3"
    },
    "language_info": {
      "name": "python"
    }
  },
  "nbformat": 4,
  "nbformat_minor": 0
}